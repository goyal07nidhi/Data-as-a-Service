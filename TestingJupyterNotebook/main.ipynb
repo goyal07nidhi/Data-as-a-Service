{
 "cells": [
  {
   "cell_type": "markdown",
   "metadata": {},
   "source": [
    "# Fast API Design\n",
    "\n",
    "An API that can be used to query different aspects of the dataset with enabled API key authentication."
   ]
  },
  {
   "cell_type": "markdown",
   "metadata": {},
   "source": [
    "Import required modules"
   ]
  },
  {
   "cell_type": "code",
   "execution_count": 1,
   "metadata": {},
   "outputs": [],
   "source": [
    "import uvicorn\n",
    "from fastapi import Security, Depends, FastAPI, HTTPException, File, UploadFile\n",
    "from fastapi.security.api_key import APIKeyQuery, APIKeyHeader, APIKey\n",
    "from starlette.status import HTTP_403_FORBIDDEN\n",
    "from pydantic import BaseModel\n",
    "import snowflake.connector\n",
    "from snowflake.connector import DictCursor\n",
    "import shutil"
   ]
  },
  {
   "cell_type": "code",
   "execution_count": 2,
   "metadata": {},
   "outputs": [],
   "source": [
    "import nest_asyncio\n",
    "nest_asyncio.apply()"
   ]
  },
  {
   "cell_type": "code",
   "execution_count": 3,
   "metadata": {},
   "outputs": [],
   "source": [
    "API_KEY = \"Team6\"\n",
    "API_KEY_NAME = \"access_token\""
   ]
  },
  {
   "cell_type": "code",
   "execution_count": 4,
   "metadata": {},
   "outputs": [],
   "source": [
    "# extract the access_token key in the query\n",
    "api_key_query = APIKeyQuery(name=API_KEY_NAME, auto_error=False)\n",
    "api_key_header = APIKeyHeader(name=API_KEY_NAME, auto_error=False)"
   ]
  },
  {
   "cell_type": "code",
   "execution_count": 5,
   "metadata": {},
   "outputs": [],
   "source": [
    "# defining API key\n",
    "async def get_api_key(\n",
    "        api_key_query: str = Security(api_key_query)):\n",
    "    if api_key_query == API_KEY:\n",
    "        return api_key_query\n",
    "    else:\n",
    "        raise HTTPException(\n",
    "            status_code=HTTP_403_FORBIDDEN, detail=\"Could not validate credentials\"\n",
    "        )"
   ]
  },
  {
   "cell_type": "code",
   "execution_count": 6,
   "metadata": {},
   "outputs": [],
   "source": [
    "app = FastAPI()"
   ]
  },
  {
   "cell_type": "code",
   "execution_count": 7,
   "metadata": {},
   "outputs": [],
   "source": [
    "class Item(BaseModel):\n",
    "    experiment: int\n",
    "    timestamp: int\n",
    "    column: str\n",
    "    data_greater_than: int\n",
    "    data_less_than: int\n",
    "    feature: str\n",
    "    input: str"
   ]
  },
  {
   "cell_type": "code",
   "execution_count": 8,
   "metadata": {},
   "outputs": [],
   "source": [
    "features = {'feature_1': ['A_1', 'A_2', 'A_3', 'A_4', 'A_5'],\n",
    "            'feature_2': ['B_1', 'B_2', 'B_3', 'B_4', 'B_5'],\n",
    "            'feature_3': ['C_1', 'C_2', 'C_3', 'C_4', 'C_5'],\n",
    "            'feature_4': ['L_1', 'L_2'],\n",
    "            'feature_5': ['L_3', 'L_6'],\n",
    "            'feature_6': ['L_4', 'L_5'],\n",
    "            'feature_7': ['L_7', 'L_8'],\n",
    "            'feature_8': ['L_9', 'L_10']}"
   ]
  },
  {
   "cell_type": "code",
   "execution_count": 9,
   "metadata": {},
   "outputs": [],
   "source": [
    "ctx = snowflake.connector.connect(user='user',\n",
    "                                  password='password',\n",
    "                                  account='account',\n",
    "                                  warehouse='warehouse',\n",
    "                                  database='database',\n",
    "                                  table='table',\n",
    "                                  schema='PUBLIC',\n",
    "                                  protocol='https')"
   ]
  },
  {
   "cell_type": "code",
   "execution_count": 10,
   "metadata": {},
   "outputs": [],
   "source": [
    "# Create a cursor object.\n",
    "cur = ctx.cursor(DictCursor)"
   ]
  },
  {
   "cell_type": "code",
   "execution_count": 11,
   "metadata": {},
   "outputs": [],
   "source": [
    "@app.get(\"/\", tags=[\"Welcome to Project Team 6\"])\n",
    "async def read_root():\n",
    "    return {\"Welcome to Team 6 Project Page\": \"Production Plant Data for Condition Monitoring\"}"
   ]
  },
  {
   "cell_type": "code",
   "execution_count": 12,
   "metadata": {},
   "outputs": [],
   "source": [
    "# Snowflake - Fetching all records\n",
    "@app.get(\"/ProductionPlantData\", tags=[\"Production Plant Data\"])\n",
    "async def fetch_all_data(api_key: APIKey = Depends(get_api_key)):\n",
    "    if APIKey:\n",
    "        # Create a cursor object.\n",
    "        cur = ctx.cursor(DictCursor)\n",
    "        \n",
    "        sql = \"SELECT * FROM PROD_PLANT LIMIT 5\"\n",
    "        query = cur.execute(sql)\n",
    "        result = []\n",
    "        for data in query:\n",
    "            result.append(data)\n",
    "        return result\n",
    "    else:\n",
    "        raise HTTPException(status_code=404, detail=\"Data not Found\")"
   ]
  },
  {
   "cell_type": "code",
   "execution_count": 13,
   "metadata": {},
   "outputs": [],
   "source": [
    "# Snowflake -Fetching columns information\n",
    "@app.get(\"/ProductionPlantData/column/{column}\", tags=[\"Column data of Production Plant\"])\n",
    "async def fetch_data_by_columns(column: str, api_key: APIKey = Depends(get_api_key)):\n",
    "    if APIKey:\n",
    "        try:\n",
    "            cur = ctx.cursor()\n",
    "            \n",
    "            sql = \"select\" + \" \" +column + \" \" +\"from PROD_PLANT LIMIT 6;\"\n",
    "            cur.execute(sql)\n",
    "            data = cur.fetch_pandas_all()\n",
    "            return data\n",
    "        except:\n",
    "            raise HTTPException(status_code=404, detail=\"One or more columns not Found\")"
   ]
  },
  {
   "cell_type": "code",
   "execution_count": 14,
   "metadata": {},
   "outputs": [],
   "source": [
    "# Fetching records of particular experiment\n",
    "@app.get(\"/ProductionPlantData/experiment/{experiment}\", tags=[\"Production Plant Data by Experiment\"])\n",
    "async def get_data_by_experiment(experiment: int, api_key: APIKey = Depends(get_api_key)):\n",
    "    if APIKey:\n",
    "        # Create a cursor object.\n",
    "        cur = ctx.cursor(DictCursor)\n",
    "        \n",
    "        if experiment in [7, 8, 9, 11, 13, 14, 15, 16]:\n",
    "            sql = \"select * from PROD_PLANT where EXPERIMENT_NUMBER = \" + str(experiment) + \" limit 2\"\n",
    "            query = cur.execute(sql)\n",
    "            result = []\n",
    "            for data in query:\n",
    "                result.append(data)\n",
    "            return result\n",
    "        else:\n",
    "            raise HTTPException(status_code=404, detail=\"Experiment Number not Found\")"
   ]
  },
  {
   "cell_type": "code",
   "execution_count": 15,
   "metadata": {},
   "outputs": [],
   "source": [
    "# Fetching records of particular timestamp\n",
    "@app.get(\"/ProductionPlantData/timestamp/{timestamp}\", tags=[\"Production Plant Data by Timestamp\"])\n",
    "async def get_data_by_timestamp(timestamp: int, api_key: APIKey = Depends(get_api_key)):\n",
    "    if APIKey:\n",
    "        # Create a cursor object.\n",
    "        cur = ctx.cursor(DictCursor)\n",
    "        \n",
    "        sql = \"select * from PROD_PLANT where TIMESTAMP = \" + str(timestamp) + \" limit 10\"\n",
    "        query = cur.execute(sql)\n",
    "        result = []\n",
    "        for data in query:\n",
    "            result.append(data)\n",
    "        if len(result) == 0:\n",
    "            raise HTTPException(status_code=404, detail=\"Timestamp not Found\")\n",
    "        else:\n",
    "            return result"
   ]
  },
  {
   "cell_type": "code",
   "execution_count": 16,
   "metadata": {},
   "outputs": [],
   "source": [
    "# Fetching records of particular feature\n",
    "@app.get(\"/ProductionPlantData/feature/{feature}\", tags=[\"Production Plant Data by Features\"])\n",
    "async def get_data_by_feature(feature: str, api_key: APIKey = Depends(get_api_key)):\n",
    "    if APIKey:\n",
    "        try:\n",
    "            # Create a cursor object.\n",
    "            cur = ctx.cursor(DictCursor)\n",
    "            \n",
    "            string = \",\".join(features[feature])\n",
    "            sql = \"select \" + string + \" from PROD_PLANT limit 3\"\n",
    "            query = cur.execute(sql)\n",
    "            result = []\n",
    "            for data in query:\n",
    "                result.append(data)\n",
    "            return result\n",
    "        except:\n",
    "            raise HTTPException(status_code=404, detail=\"Feature not Found\")"
   ]
  },
  {
   "cell_type": "code",
   "execution_count": 17,
   "metadata": {},
   "outputs": [],
   "source": [
    "# Fetching records of between particular timestamp\n",
    "@app.get(\"/ProductionPlantData/data_between/{column_name}/{data_greater_than}/{data_less_than}\",\n",
    "         tags=[\"Production Plant Data by Range\"])\n",
    "async def get_data_between_range(column_name: str, data_greater_than: int, data_less_than: int,\n",
    "                                 api_key: APIKey = Depends(get_api_key)):\n",
    "    if APIKey:\n",
    "        try:\n",
    "            # Create a cursor object.\n",
    "            cur = ctx.cursor(DictCursor)\n",
    "        \n",
    "            sql = \"select * \" \\\n",
    "                  \"from PROD_PLANT \" \\\n",
    "                  \"where \" + column_name + \" >=\" + str(data_greater_than) + \"and \" + column_name + \" <= \" + str(data_less_than) + \\\n",
    "                  \" limit 5\"\n",
    "            query = cur.execute(sql)\n",
    "            result = []\n",
    "            for data in query:\n",
    "                result.append(data)\n",
    "            return result\n",
    "        except:\n",
    "            raise HTTPException(status_code=404, detail=\"Variables not Found\")"
   ]
  },
  {
   "cell_type": "code",
   "execution_count": 18,
   "metadata": {},
   "outputs": [],
   "source": [
    "# Pushing CSV file into snowflske stage\n",
    "@app.post(\"/data-into-snowflake/v1\", tags=[\"Push CSV data into Snowflake\"])\n",
    "async def push_data_into_snowflake(file: UploadFile = File(...), api_key: APIKey = Depends(get_api_key)):\n",
    "    with open(\"load-data-into-snowflake.csv\", \"wb\") as buffer:\n",
    "        shutil.copyfileobj(file.file, buffer)\n",
    "\n",
    "    if APIKey:\n",
    "        cur = ctx.cursor()\n",
    "        sql = \"PUT file:///Users/ng/Downloads/CSYE7245_NidhiGoyal/Assignment_3/TestingJupyterNotebook/load-data-into-snowflake.csv @%PROD_PLANT\"\n",
    "        cur.execute(sql)\n",
    "    return {\"result\": \"Import successful\"}"
   ]
  },
  {
   "cell_type": "code",
   "execution_count": 19,
   "metadata": {},
   "outputs": [
    {
     "name": "stderr",
     "output_type": "stream",
     "text": [
      "INFO:     Started server process [37404]\n",
      "INFO:     Waiting for application startup.\n",
      "INFO:     Application startup complete.\n",
      "INFO:     Uvicorn running on http://127.0.0.1:8080 (Press CTRL+C to quit)\n"
     ]
    },
    {
     "name": "stdout",
     "output_type": "stream",
     "text": [
      "INFO:     127.0.0.1:62266 - \"GET / HTTP/1.1\" 200 OK\n",
      "INFO:     127.0.0.1:62267 - \"GET /docs HTTP/1.1\" 200 OK\n",
      "INFO:     127.0.0.1:62267 - \"GET /openapi.json HTTP/1.1\" 200 OK\n",
      "INFO:     127.0.0.1:62268 - \"GET /ProductionPlantData/column/A_1?access_token=Team6 HTTP/1.1\" 200 OK\n"
     ]
    },
    {
     "name": "stderr",
     "output_type": "stream",
     "text": [
      "INFO:     Shutting down\n",
      "INFO:     Waiting for application shutdown.\n",
      "INFO:     Application shutdown complete.\n",
      "INFO:     Finished server process [37404]\n"
     ]
    }
   ],
   "source": [
    "if __name__ == '__main__':\n",
    "    uvicorn.run(app, port=8080, host='127.0.0.1')"
   ]
  }
 ],
 "metadata": {
  "kernelspec": {
   "display_name": "Python 3",
   "language": "python",
   "name": "python3"
  },
  "language_info": {
   "codemirror_mode": {
    "name": "ipython",
    "version": 3
   },
   "file_extension": ".py",
   "mimetype": "text/x-python",
   "name": "python",
   "nbconvert_exporter": "python",
   "pygments_lexer": "ipython3",
   "version": "3.7.6"
  }
 },
 "nbformat": 4,
 "nbformat_minor": 4
}
