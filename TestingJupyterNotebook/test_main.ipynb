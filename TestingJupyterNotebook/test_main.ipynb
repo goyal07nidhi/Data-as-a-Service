{
 "cells": [
  {
   "cell_type": "markdown",
   "metadata": {},
   "source": [
    "# Test Cases\n",
    "\n",
    "This notebook contains all the testcases that our API supports."
   ]
  },
  {
   "cell_type": "markdown",
   "metadata": {},
   "source": [
    "### Required Installations"
   ]
  },
  {
   "cell_type": "code",
   "execution_count": 1,
   "metadata": {},
   "outputs": [
    {
     "name": "stdout",
     "output_type": "stream",
     "text": [
      "Requirement already satisfied: ipytest in /Library/Frameworks/Python.framework/Versions/3.7/lib/python3.7/site-packages (0.9.1)\n",
      "Requirement already satisfied: packaging in /Library/Frameworks/Python.framework/Versions/3.7/lib/python3.7/site-packages (from ipytest) (20.1)\n",
      "Requirement already satisfied: pytest>=5.4 in /Library/Frameworks/Python.framework/Versions/3.7/lib/python3.7/site-packages (from ipytest) (6.2.2)\n",
      "Requirement already satisfied: ipython in /Library/Frameworks/Python.framework/Versions/3.7/lib/python3.7/site-packages (from ipytest) (7.12.0)\n",
      "Requirement already satisfied: py>=1.8.2 in /Library/Frameworks/Python.framework/Versions/3.7/lib/python3.7/site-packages (from pytest>=5.4->ipytest) (1.10.0)\n",
      "Requirement already satisfied: attrs>=19.2.0 in /Library/Frameworks/Python.framework/Versions/3.7/lib/python3.7/site-packages (from pytest>=5.4->ipytest) (19.3.0)\n",
      "Requirement already satisfied: importlib-metadata>=0.12 in /Library/Frameworks/Python.framework/Versions/3.7/lib/python3.7/site-packages (from pytest>=5.4->ipytest) (1.5.0)\n",
      "Requirement already satisfied: iniconfig in /Library/Frameworks/Python.framework/Versions/3.7/lib/python3.7/site-packages (from pytest>=5.4->ipytest) (1.1.1)\n",
      "Requirement already satisfied: toml in /Users/ng/Library/Python/3.7/lib/python/site-packages (from pytest>=5.4->ipytest) (0.10.2)\n",
      "Requirement already satisfied: pluggy<1.0.0a1,>=0.12 in /Library/Frameworks/Python.framework/Versions/3.7/lib/python3.7/site-packages (from pytest>=5.4->ipytest) (0.13.1)\n",
      "Requirement already satisfied: zipp>=0.5 in /Library/Frameworks/Python.framework/Versions/3.7/lib/python3.7/site-packages (from importlib-metadata>=0.12->pytest>=5.4->ipytest) (3.0.0)\n",
      "Requirement already satisfied: traitlets>=4.2 in /Library/Frameworks/Python.framework/Versions/3.7/lib/python3.7/site-packages (from ipython->ipytest) (4.3.3)\n",
      "Requirement already satisfied: setuptools>=18.5 in /Library/Frameworks/Python.framework/Versions/3.7/lib/python3.7/site-packages (from ipython->ipytest) (54.0.0)\n",
      "Requirement already satisfied: prompt-toolkit!=3.0.0,!=3.0.1,<3.1.0,>=2.0.0 in /Library/Frameworks/Python.framework/Versions/3.7/lib/python3.7/site-packages (from ipython->ipytest) (3.0.3)\n",
      "Requirement already satisfied: jedi>=0.10 in /Library/Frameworks/Python.framework/Versions/3.7/lib/python3.7/site-packages (from ipython->ipytest) (0.16.0)\n",
      "Requirement already satisfied: pexpect in /Library/Frameworks/Python.framework/Versions/3.7/lib/python3.7/site-packages (from ipython->ipytest) (4.8.0)\n",
      "Requirement already satisfied: pygments in /Library/Frameworks/Python.framework/Versions/3.7/lib/python3.7/site-packages (from ipython->ipytest) (2.5.2)\n",
      "Requirement already satisfied: decorator in /Library/Frameworks/Python.framework/Versions/3.7/lib/python3.7/site-packages (from ipython->ipytest) (4.4.1)\n",
      "Requirement already satisfied: appnope in /Library/Frameworks/Python.framework/Versions/3.7/lib/python3.7/site-packages (from ipython->ipytest) (0.1.0)\n",
      "Requirement already satisfied: backcall in /Library/Frameworks/Python.framework/Versions/3.7/lib/python3.7/site-packages (from ipython->ipytest) (0.1.0)\n",
      "Requirement already satisfied: pickleshare in /Library/Frameworks/Python.framework/Versions/3.7/lib/python3.7/site-packages (from ipython->ipytest) (0.7.5)\n",
      "Requirement already satisfied: parso>=0.5.2 in /Library/Frameworks/Python.framework/Versions/3.7/lib/python3.7/site-packages (from jedi>=0.10->ipython->ipytest) (0.6.1)\n",
      "Requirement already satisfied: wcwidth in /Library/Frameworks/Python.framework/Versions/3.7/lib/python3.7/site-packages (from prompt-toolkit!=3.0.0,!=3.0.1,<3.1.0,>=2.0.0->ipython->ipytest) (0.1.8)\n",
      "Requirement already satisfied: six in /Library/Frameworks/Python.framework/Versions/3.7/lib/python3.7/site-packages (from traitlets>=4.2->ipython->ipytest) (1.15.0)\n",
      "Requirement already satisfied: ipython-genutils in /Library/Frameworks/Python.framework/Versions/3.7/lib/python3.7/site-packages (from traitlets>=4.2->ipython->ipytest) (0.2.0)\n",
      "Requirement already satisfied: pyparsing>=2.0.2 in /Library/Frameworks/Python.framework/Versions/3.7/lib/python3.7/site-packages (from packaging->ipytest) (2.4.6)\n",
      "Requirement already satisfied: ptyprocess>=0.5 in /Library/Frameworks/Python.framework/Versions/3.7/lib/python3.7/site-packages (from pexpect->ipython->ipytest) (0.6.0)\n",
      "Requirement already satisfied: pytest-tornasync in /Library/Frameworks/Python.framework/Versions/3.7/lib/python3.7/site-packages (0.6.0.post2)\n",
      "Requirement already satisfied: tornado>=5.0 in /Library/Frameworks/Python.framework/Versions/3.7/lib/python3.7/site-packages (from pytest-tornasync) (6.0.3)\n",
      "Requirement already satisfied: pytest>=3.0 in /Library/Frameworks/Python.framework/Versions/3.7/lib/python3.7/site-packages (from pytest-tornasync) (6.2.2)\n",
      "Requirement already satisfied: py>=1.8.2 in /Library/Frameworks/Python.framework/Versions/3.7/lib/python3.7/site-packages (from pytest>=3.0->pytest-tornasync) (1.10.0)\n",
      "Requirement already satisfied: toml in /Users/ng/Library/Python/3.7/lib/python/site-packages (from pytest>=3.0->pytest-tornasync) (0.10.2)\n",
      "Requirement already satisfied: packaging in /Library/Frameworks/Python.framework/Versions/3.7/lib/python3.7/site-packages (from pytest>=3.0->pytest-tornasync) (20.1)\n",
      "Requirement already satisfied: attrs>=19.2.0 in /Library/Frameworks/Python.framework/Versions/3.7/lib/python3.7/site-packages (from pytest>=3.0->pytest-tornasync) (19.3.0)\n",
      "Requirement already satisfied: importlib-metadata>=0.12 in /Library/Frameworks/Python.framework/Versions/3.7/lib/python3.7/site-packages (from pytest>=3.0->pytest-tornasync) (1.5.0)\n",
      "Requirement already satisfied: iniconfig in /Library/Frameworks/Python.framework/Versions/3.7/lib/python3.7/site-packages (from pytest>=3.0->pytest-tornasync) (1.1.1)\n",
      "Requirement already satisfied: pluggy<1.0.0a1,>=0.12 in /Library/Frameworks/Python.framework/Versions/3.7/lib/python3.7/site-packages (from pytest>=3.0->pytest-tornasync) (0.13.1)\n",
      "Requirement already satisfied: zipp>=0.5 in /Library/Frameworks/Python.framework/Versions/3.7/lib/python3.7/site-packages (from importlib-metadata>=0.12->pytest>=3.0->pytest-tornasync) (3.0.0)\n",
      "Requirement already satisfied: six in /Library/Frameworks/Python.framework/Versions/3.7/lib/python3.7/site-packages (from packaging->pytest>=3.0->pytest-tornasync) (1.15.0)\n",
      "Requirement already satisfied: pyparsing>=2.0.2 in /Library/Frameworks/Python.framework/Versions/3.7/lib/python3.7/site-packages (from packaging->pytest>=3.0->pytest-tornasync) (2.4.6)\n",
      "Requirement already satisfied: nest_asyncio in /Library/Frameworks/Python.framework/Versions/3.7/lib/python3.7/site-packages (1.5.1)\n",
      "Requirement already satisfied: ipynb in /Library/Frameworks/Python.framework/Versions/3.7/lib/python3.7/site-packages (0.5.1)\n"
     ]
    }
   ],
   "source": [
    "!pip install -U ipytest\n",
    "!pip install pytest-tornasync\n",
    "!pip install nest_asyncio\n",
    "!pip install ipynb"
   ]
  },
  {
   "cell_type": "markdown",
   "metadata": {},
   "source": [
    "### Importing the required modules"
   ]
  },
  {
   "cell_type": "code",
   "execution_count": 2,
   "metadata": {},
   "outputs": [],
   "source": [
    "import nest_asyncio\n",
    "nest_asyncio.apply()\n",
    "\n",
    "import ipytest\n",
    "ipytest.autoconfig()\n",
    "\n",
    "import pytest\n",
    "from fastapi.testclient import TestClient\n",
    "from fastapi import Depends\n",
    "from fastapi.security.api_key import APIKey\n",
    "import warnings\n",
    "from ipynb.fs.full.main import *"
   ]
  },
  {
   "cell_type": "markdown",
   "metadata": {},
   "source": [
    "### Initializing a TestClient"
   ]
  },
  {
   "cell_type": "code",
   "execution_count": 3,
   "metadata": {},
   "outputs": [],
   "source": [
    "client = TestClient(app)"
   ]
  },
  {
   "cell_type": "markdown",
   "metadata": {},
   "source": [
    "## Test Case1: \n",
    "**Function:** \n",
    "1. Prints Welcome message in the Root page \n",
    "\n",
    "**Test:** \n",
    "1. Checking the response code if it is 200; The HTTP Status 200 (OK) status code indicates that the request has been processed successfully on server\n",
    "2. Checking if the output is same as the Welcome message"
   ]
  },
  {
   "cell_type": "code",
   "execution_count": 4,
   "metadata": {},
   "outputs": [
    {
     "name": "stdout",
     "output_type": "stream",
     "text": [
      ".                                                                        [100%]\n",
      "1 passed in 0.09s\n"
     ]
    }
   ],
   "source": [
    "%%run_pytest[clean]\n",
    "\n",
    "def test_read_root():\n",
    "    warnings.simplefilter(\"always\")\n",
    "    response = client.get(\"/\")\n",
    "    assert response.status_code == 200\n",
    "    assert response.json() == {\"Welcome to Team 6 Project Page\": \"Production Plant Data for Condition Monitoring\"}"
   ]
  },
  {
   "cell_type": "markdown",
   "metadata": {},
   "source": [
    "## Test Case2: \n",
    "**Function:** \n",
    "1. Getting the complete data from Snowflake i.e. all 27 columns.\n",
    "\n",
    "**Test:** \n",
    "1. Checking the response code if it is 200; The HTTP Status 200 (OK) status code indicates that the request has been processed successfully on server\n",
    "2. Checking if the length of the response is as expected. For testing, we are querying data with limit 5 so here expected length would be 5."
   ]
  },
  {
   "cell_type": "code",
   "execution_count": 5,
   "metadata": {},
   "outputs": [
    {
     "name": "stdout",
     "output_type": "stream",
     "text": [
      ".                                                                        [100%]\n",
      "1 passed in 0.60s\n"
     ]
    }
   ],
   "source": [
    "%%run_pytest[clean]\n",
    "\n",
    "def test_fetch_all_data(api_key: APIKey = Depends(get_api_key)):\n",
    "    response = client.get(\"/ProductionPlantData?access_token=Team6\")\n",
    "    assert response.status_code == 200\n",
    "    assert len(response.json()) == 5"
   ]
  },
  {
   "cell_type": "markdown",
   "metadata": {},
   "source": [
    "## Test Case3: \n",
    "**Function:** \n",
    "1. Getting the data from Snowflake based on the column name(s) given as parameter\n",
    "\n",
    "**Parameter Passed:**\n",
    "1. Column which is present in the table A_1\n",
    "\n",
    "**Test:** \n",
    "1. Checking the response code if it is 200; The HTTP Status 200 (OK) status code indicates that the request has been processed successfully on server\n",
    "2. Checking the column name which is given as parameter is present in the table\n",
    "3. Checking if the length of the response is as expected\n"
   ]
  },
  {
   "cell_type": "code",
   "execution_count": 6,
   "metadata": {},
   "outputs": [
    {
     "name": "stdout",
     "output_type": "stream",
     "text": [
      ".                                                                        [100%]\n",
      "1 passed in 0.24s\n"
     ]
    }
   ],
   "source": [
    "%%run_pytest[clean]\n",
    "\n",
    "def test_fetch_data_by_columns(api_key: APIKey = Depends(get_api_key)):\n",
    "    column = \"A_1\"\n",
    "    response = client.get(\"/ProductionPlantData/column/{}?access_token=Team6\".format(column))\n",
    "    assert response.status_code == 200\n",
    "    assert (column in response.json().keys()) == True\n",
    "    assert len(response.json()[column]) == 6"
   ]
  },
  {
   "cell_type": "markdown",
   "metadata": {},
   "source": [
    "## Test Case4: \n",
    "**Function:** \n",
    "1. Getting the data from Snowflake based on the column name(s) given as parameter\n",
    "\n",
    "**Parameter Passes:**\n",
    "1. Column not present in table i.e M_1\n",
    "\n",
    "**Test:** \n",
    "1. Checking the response code if it is 404\n",
    "3. Checking if the output is \"One or more columns not Found\""
   ]
  },
  {
   "cell_type": "code",
   "execution_count": 7,
   "metadata": {},
   "outputs": [
    {
     "name": "stdout",
     "output_type": "stream",
     "text": [
      ".                                                                        [100%]\n",
      "1 passed in 0.24s\n"
     ]
    }
   ],
   "source": [
    "%%run_pytest[clean]\n",
    "\n",
    "def test_fetch_data_by_columns(api_key: APIKey = Depends(get_api_key)):\n",
    "    column = \"M_1\"\n",
    "    response = client.get(\"/ProductionPlantData/column/{}?access_token=Team6\".format(column))\n",
    "    assert response.status_code == 404\n",
    "    assert response.json() == {\"detail\":\"One or more columns not Found\"}"
   ]
  },
  {
   "cell_type": "markdown",
   "metadata": {},
   "source": [
    "## Test Case5: \n",
    "**Function:** \n",
    "1. Getting the data from Snowflake based on the experiment given as parameter\n",
    "\n",
    "**Parameter Passes:**\n",
    "1. Experiment present in table i.e 7\n",
    "\n",
    "**Test:** \n",
    "1. Checking the response code if it is 200; The HTTP Status 200 (OK) status code indicates that the request has been processed successfully on server\n",
    "3. Checking if the length of the response is as expected"
   ]
  },
  {
   "cell_type": "code",
   "execution_count": 8,
   "metadata": {},
   "outputs": [
    {
     "name": "stdout",
     "output_type": "stream",
     "text": [
      ".                                                                        [100%]\n",
      "1 passed in 0.16s\n"
     ]
    }
   ],
   "source": [
    "%%run_pytest[clean]\n",
    "\n",
    "def test_get_data_by_experiment(api_key: APIKey = Depends(get_api_key)):\n",
    "    experiment = 7\n",
    "    response = client.get(\"/ProductionPlantData/experiment/{}?access_token=Team6\".format(experiment))\n",
    "    assert response.status_code == 200\n",
    "    assert len(response.json()) == 2"
   ]
  },
  {
   "cell_type": "markdown",
   "metadata": {},
   "source": [
    "## Test Case6: \n",
    "**Function:** \n",
    "1. Getting the data from Snowflake based on the experiment given as parameter\n",
    "\n",
    "**Parameter Passes:**\n",
    "1. Experiment which is not present in table i.e 81\n",
    "\n",
    "**Test:** \n",
    "1. Checking the response code if it is 404\n",
    "3. Checking the output if it is \"Experiment Number is not found\""
   ]
  },
  {
   "cell_type": "code",
   "execution_count": 9,
   "metadata": {},
   "outputs": [
    {
     "name": "stdout",
     "output_type": "stream",
     "text": [
      ".                                                                        [100%]\n",
      "1 passed in 0.05s\n"
     ]
    }
   ],
   "source": [
    "%%run_pytest[clean]\n",
    "\n",
    "def test_get_data_by_experiment(api_key: APIKey = Depends(get_api_key)):\n",
    "    experiment = 81\n",
    "    response = client.get(\"/ProductionPlantData/experiment/{}?access_token=Team6\".format(experiment))\n",
    "    assert response.status_code == 404\n",
    "    assert response.json() == {\"detail\":\"Experiment Number not Found\"}"
   ]
  },
  {
   "cell_type": "markdown",
   "metadata": {},
   "source": [
    "## Test Case7: \n",
    "**Function:** \n",
    "1. Getting the data from Snowflake based on the Timestamp given as parameter\n",
    "\n",
    "**Parameter Passes:**\n",
    "1. Timestamp which is present in table i.e 1000\n",
    "\n",
    "**Test:** \n",
    "1. Checking the response code if it is 200; The HTTP Status 200 (OK) status code indicates that the request has been processed successfully on server\n",
    "3. Checking if the length of the response is as expected"
   ]
  },
  {
   "cell_type": "code",
   "execution_count": 10,
   "metadata": {},
   "outputs": [
    {
     "name": "stdout",
     "output_type": "stream",
     "text": [
      ".                                                                        [100%]\n",
      "1 passed in 0.30s\n"
     ]
    }
   ],
   "source": [
    "%%run_pytest[clean]\n",
    "\n",
    "def test_get_data_by_timestamp(api_key: APIKey = Depends(get_api_key)):\n",
    "    timestamp = 1000\n",
    "    response = client.get(\"/ProductionPlantData/timestamp/{}?access_token=Team6\".format(timestamp))\n",
    "    assert response.status_code == 200\n",
    "    assert len(response.json()) == 10"
   ]
  },
  {
   "cell_type": "markdown",
   "metadata": {},
   "source": [
    "## Test Case8: \n",
    "**Function:** \n",
    "1. Getting the data from Snowflake based on the experiment given as parameter\n",
    "\n",
    "**Parameter Passes:**\n",
    "1. Timestamp which is not present in table i.e 99999\n",
    "\n",
    "**Test:** \n",
    "1. Checking the response code if it is 404\n",
    "3. Checking the output if it is \"Timestamp not found\""
   ]
  },
  {
   "cell_type": "code",
   "execution_count": 11,
   "metadata": {},
   "outputs": [
    {
     "name": "stdout",
     "output_type": "stream",
     "text": [
      ".                                                                        [100%]\n",
      "1 passed in 0.14s\n"
     ]
    }
   ],
   "source": [
    "%%run_pytest[clean]\n",
    "\n",
    "def test_get_data_by_timestamp(api_key: APIKey = Depends(get_api_key)):\n",
    "    timestamp = 99999\n",
    "    response = client.get(\"/ProductionPlantData/timestamp/{}?access_token=Team6\".format(timestamp))\n",
    "    assert response.status_code == 404\n",
    "    assert response.json() == {\"detail\":\"Timestamp not Found\"}"
   ]
  },
  {
   "cell_type": "markdown",
   "metadata": {},
   "source": [
    "## Test Case9: \n",
    "**Function:** \n",
    "1. Getting the data from Snowflake based on the features given as parameter \n",
    "(There are 26 columns which are combined into 8 features)\n",
    "\n",
    "**Parameter Passes:**\n",
    "1. Feature which is present in table i.e feature_1\n",
    "\n",
    "**Test:** \n",
    "1. Checking the response code if it is 200\n",
    "2. Checking if the length of the response is as expected"
   ]
  },
  {
   "cell_type": "code",
   "execution_count": 12,
   "metadata": {},
   "outputs": [
    {
     "name": "stdout",
     "output_type": "stream",
     "text": [
      ".                                                                        [100%]\n",
      "1 passed in 0.23s\n"
     ]
    }
   ],
   "source": [
    "%%run_pytest[clean]\n",
    "\n",
    "def test_get_data_by_feature(api_key: APIKey = Depends(get_api_key)):\n",
    "    feature = 'feature_1'\n",
    "    response = client.get(\"/ProductionPlantData/feature/{}?access_token=Team6\".format(feature))\n",
    "    assert response.status_code == 200\n",
    "    assert len(response.json()) == 3"
   ]
  },
  {
   "cell_type": "markdown",
   "metadata": {},
   "source": [
    "## Test Case10: \n",
    "**Function:** \n",
    "1. Getting the data from Snowflake based on the features given as parameter\n",
    "\n",
    "**Parameter Passes:**\n",
    "1. Feature which is not present in table i.e feature_10\n",
    "\n",
    "**Test:** \n",
    "1. Checking the response code if it is 404\n",
    "3. Checking the output if it is \"Feature not Found\""
   ]
  },
  {
   "cell_type": "code",
   "execution_count": 13,
   "metadata": {},
   "outputs": [
    {
     "name": "stdout",
     "output_type": "stream",
     "text": [
      ".                                                                        [100%]\n",
      "1 passed in 0.04s\n"
     ]
    }
   ],
   "source": [
    "%%run_pytest[clean]\n",
    "\n",
    "def test_get_data_by_feature(api_key: APIKey = Depends(get_api_key)):\n",
    "    feature = 'feature_10'\n",
    "    response = client.get(\"/ProductionPlantData/feature/{}?access_token=Team6\".format(feature))\n",
    "    assert response.status_code == 404\n",
    "    assert response.json() == {\"detail\":\"Feature not Found\"}"
   ]
  },
  {
   "cell_type": "markdown",
   "metadata": {},
   "source": [
    "## Test Case11: \n",
    "**Function:** \n",
    "1. Getting the data from Snowflake based on the column and the range given as parameter\n",
    "\n",
    "**Parameter Passes:**\n",
    "1. Column Name which is present in table i.e A_1 \n",
    "2. Range = 23 - 33\n",
    "\n",
    "**Test:** \n",
    "1. Checking the response code if it is 200\n",
    "2. Checking if the length of the response is as expected"
   ]
  },
  {
   "cell_type": "code",
   "execution_count": 14,
   "metadata": {},
   "outputs": [
    {
     "name": "stdout",
     "output_type": "stream",
     "text": [
      ".                                                                        [100%]\n",
      "1 passed in 0.18s\n"
     ]
    }
   ],
   "source": [
    "%%run_pytest[clean]\n",
    "\n",
    "def test_get_data_between_range(api_key: APIKey = Depends(get_api_key)):\n",
    "    column_name = 'A_1'\n",
    "    data_greater_than = 23\n",
    "    data_less_than = 33\n",
    "    response = client.get(\"/ProductionPlantData/data_between/{0}/{1}/{2}?access_token=Team6\".format(column_name, data_greater_than, data_less_than))\n",
    "    assert response.status_code == 200\n",
    "    assert len(response.json()) == 5"
   ]
  },
  {
   "cell_type": "markdown",
   "metadata": {},
   "source": [
    "## Test Case 12: \n",
    "**Function:** \n",
    "1. Getting the data from Snowflake based on the column and the range given as parameter\n",
    "\n",
    "**Parameter Passes:**\n",
    "1. Column Name which is not present in table i.e M_1\n",
    "2. Range = 23 - 33\n",
    "\n",
    "**Test:** \n",
    "1. Checking the response code if it is 404\n",
    "2. Checking the output if it is \"Variables not Found\""
   ]
  },
  {
   "cell_type": "code",
   "execution_count": 15,
   "metadata": {},
   "outputs": [
    {
     "name": "stdout",
     "output_type": "stream",
     "text": [
      ".                                                                        [100%]\n",
      "1 passed in 0.23s\n"
     ]
    }
   ],
   "source": [
    "%%run_pytest[clean]\n",
    "\n",
    "def test_get_data_between_range(api_key: APIKey = Depends(get_api_key)):\n",
    "    column_name = 'Z_11'\n",
    "    data_greater_than = 23\n",
    "    data_less_than = 33\n",
    "    response = client.get(\"/ProductionPlantData/data_between/{0}/{1}/{2}?access_token=Team6\".format(column_name, data_greater_than, data_less_than))\n",
    "    assert response.status_code == 404\n",
    "    assert response.json() == {\"detail\":\"Variables not Found\"}"
   ]
  }
 ],
 "metadata": {
  "kernelspec": {
   "display_name": "Python 3",
   "language": "python",
   "name": "python3"
  },
  "language_info": {
   "codemirror_mode": {
    "name": "ipython",
    "version": 3
   },
   "file_extension": ".py",
   "mimetype": "text/x-python",
   "name": "python",
   "nbconvert_exporter": "python",
   "pygments_lexer": "ipython3",
   "version": "3.7.6"
  }
 },
 "nbformat": 4,
 "nbformat_minor": 4
}
